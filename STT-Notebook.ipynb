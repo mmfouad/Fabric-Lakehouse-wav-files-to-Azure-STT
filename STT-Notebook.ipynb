{
 "cells": [
  {
   "cell_type": "code",
   "execution_count": null,
   "id": "53394cfa-ab5b-43ab-9803-1b6d713db7cf",
   "metadata": {
    "cellStatus": "{\"Mohamed Fouad\":{\"session_start_time\":null,\"execution_start_time\":\"2025-06-19T14:25:20.652428Z\",\"execution_finish_time\":\"2025-06-19T14:25:34.902497Z\",\"state\":\"finished\",\"livy_statement_state\":\"available\",\"normalized_state\":\"finished\"}}",
    "microsoft": {
     "language": "python",
     "language_group": "synapse_pyspark"
    }
   },
   "outputs": [],
   "source": [
    "# If needed, uncomment and run this you can run this line once per spark session.\n",
    "#%pip install azure-cognitiveservices-speech\n",
    "\n",
    "\n",
    "# Step 1: Import required libraries\n",
    "import requests\n",
    "import azure.cognitiveservices.speech as speechsdk\n",
    "from notebookutils import mssparkutils\n",
    "\n"
   ]
  },
  {
   "cell_type": "code",
   "execution_count": null,
   "id": "6cafb1f2-45ee-40b6-9ee4-5ecb8d0ed240",
   "metadata": {
    "cellStatus": "{\"Mohamed Fouad\":{\"session_start_time\":null,\"execution_start_time\":\"2025-06-19T14:25:36.7053643Z\",\"execution_finish_time\":\"2025-06-19T14:25:36.9983924Z\",\"state\":\"finished\",\"livy_statement_state\":\"available\",\"normalized_state\":\"finished\"}}",
    "microsoft": {
     "language": "python",
     "language_group": "synapse_pyspark"
    }
   },
   "outputs": [],
   "source": [
    "# Step 2: Define the Lakehouse and local paths\n",
    "lakehouse_file_path = \"{provide the file path in the lakehouse preferrably in abfss:// format}\"\n",
    "local_path = \"/tmp/Recording.wav\"\n",
    "\n"
   ]
  },
  {
   "cell_type": "code",
   "execution_count": null,
   "id": "bff3ee0c-2acb-4691-ac89-e431bdf446f4",
   "metadata": {
    "cellStatus": "{\"Mohamed Fouad\":{\"session_start_time\":null,\"execution_start_time\":\"2025-06-19T14:25:37.0005719Z\",\"execution_finish_time\":\"2025-06-19T14:25:37.2797205Z\",\"state\":\"finished\",\"livy_statement_state\":\"available\",\"normalized_state\":\"finished\"}}",
    "microsoft": {
     "language": "python",
     "language_group": "synapse_pyspark"
    }
   },
   "outputs": [],
   "source": [
    "# Step 3: Azure Speech credentials (as provided)\n",
    "speech_key = \"{insert your speech key here}\"\n",
    "speech_region = \"{insert your speech region}\"\n",
    "token_url = f\"https://{speech_region}.api.cognitive.microsoft.com/sts/v1.0/issuetoken\"\n",
    "stt_url = f\"https://{speech_region}.stt.speech.microsoft.com/speech/recognition/conversation/cognitiveservices/v1\"\n",
    "\n",
    "\n"
   ]
  },
  {
   "cell_type": "code",
   "execution_count": null,
   "id": "d554445b-4254-4cf4-9bc6-3ffe9d706017",
   "metadata": {
    "cellStatus": "{\"Mohamed Fouad\":{\"session_start_time\":null,\"execution_start_time\":\"2025-06-19T14:25:37.2814829Z\",\"execution_finish_time\":\"2025-06-19T14:25:38.0783007Z\",\"state\":\"finished\",\"livy_statement_state\":\"available\",\"normalized_state\":\"finished\"}}",
    "microsoft": {
     "language": "python",
     "language_group": "synapse_pyspark"
    }
   },
   "outputs": [],
   "source": [
    "# Step 4: Copy the audio file from OneLake to local temp\n",
    "try:\n",
    "    print(\"Copying file from OneLake...\")\n",
    "    mssparkutils.fs.cp(lakehouse_file_path, f\"file:{local_path}\")\n",
    "    print(\"✅ File copied successfully to local path.\")\n",
    "except Exception as e:\n",
    "    print(\"❌ Failed to copy file:\", e)\n",
    "    raise\n",
    "#copy back for inspection during debugging only\n",
    "#mssparkutils.fs.cp(\"file:/tmp/Recording.m4a\", \"lakehouse/YourLakehouse/Files/Recording_copy.m4a\")\n",
    "\n",
    "import os\n",
    "print(\"✅ File size on local path:\", os.path.getsize(local_path), \"bytes\")\n",
    "\n",
    "lakehouse_size = mssparkutils.fs.head(lakehouse_file_path, 1)\n",
    "print(\"✅ Lakehouse file accessible (head preview shown)\")\n",
    "\n"
   ]
  },
  {
   "cell_type": "code",
   "execution_count": null,
   "id": "e0e60cba-439d-4915-bcd8-54866c4b519f",
   "metadata": {
    "cellStatus": "{\"Mohamed Fouad\":{\"session_start_time\":null,\"execution_start_time\":\"2025-06-19T14:25:38.0802959Z\",\"execution_finish_time\":\"2025-06-19T14:25:39.6285253Z\",\"state\":\"finished\",\"livy_statement_state\":\"available\",\"normalized_state\":\"finished\"}}",
    "microsoft": {
     "language": "python",
     "language_group": "synapse_pyspark"
    }
   },
   "outputs": [],
   "source": [
    "# Step 5: Get a Bearer token from Azure Speech\n",
    "headers_token = {\n",
    "    \"Ocp-Apim-Subscription-Key\": speech_key\n",
    "}\n",
    "\n",
    "try:\n",
    "    print(\"Requesting Azure Speech token...\")\n",
    "    token_response = requests.post(token_url, headers=headers_token)\n",
    "    token = token_response.text\n",
    "    print(\"✅ Token acquired.\")\n",
    "except Exception as e:\n",
    "    print(\"❌ Failed to acquire token:\", e)\n",
    "    raise\n",
    "\n"
   ]
  },
  {
   "cell_type": "code",
   "execution_count": null,
   "id": "9edf30a4-0b98-4c5c-8574-75b3e3ef2c75",
   "metadata": {
    "cellStatus": "{\"Mohamed Fouad\":{\"session_start_time\":null,\"execution_start_time\":\"2025-06-19T14:25:39.6307539Z\",\"execution_finish_time\":\"2025-06-19T14:25:43.0390801Z\",\"state\":\"finished\",\"livy_statement_state\":\"available\",\"normalized_state\":\"finished\"}}",
    "microsoft": {
     "language": "python",
     "language_group": "synapse_pyspark"
    }
   },
   "outputs": [],
   "source": [
    "# Step 6: Send audio to Speech-to-Text API\n",
    "headers_stt = {\n",
    "    \"Authorization\": f\"Bearer {token}\",\n",
    "    \"Content-Type\": \"audio/m4a\",\n",
    "    \"Accept\": \"application/json\"\n",
    "}\n",
    "\n",
    "params = {\n",
    "    \"language\": \"en-US\",  # Change as needed\n",
    "    \"format\": \"simple\"\n",
    "}\n",
    "\n",
    "try:\n",
    "    print(\"Sending audio to Azure Speech-to-Text...\")\n",
    "    with open(local_path, \"rb\") as audio_file:\n",
    "        response = requests.post(stt_url, headers=headers_stt, params=params, data=audio_file)\n",
    "\n",
    "    if response.status_code == 200:\n",
    "        result = response.json()\n",
    "        print(response.json())\n",
    "        print(\"✅ Transcription Result:\", result.get(\"DisplayText\", \"(No text returned)\"))\n",
    "    else:\n",
    "        print(\"❌ API Error:\", response.status_code, response.text)\n",
    "except Exception as e:\n",
    "    print(\"❌ Error calling Azure Speech-to-Text:\", e)"
   ]
  }
 ],
 "metadata": {
  "a365ComputeOptions": null,
  "dependencies": {
   "lakehouse": {
    "default_lakehouse": "5e745c01-4573-4b64-8d72-96d7b02e9495",
    "default_lakehouse_name": "wwilakehouse",
    "default_lakehouse_workspace_id": "603b484b-b8b0-4250-a9cb-5904996f6d1e",
    "known_lakehouses": [
     {
      "id": "5e745c01-4573-4b64-8d72-96d7b02e9495"
     }
    ]
   }
  },
  "kernel_info": {
   "jupyter_kernel_name": null,
   "name": "synapse_pyspark"
  },
  "kernelspec": {
   "display_name": "synapse_pyspark",
   "language": null,
   "name": "synapse_pyspark"
  },
  "language_info": {
   "name": "python"
  },
  "microsoft": {
   "language": "python",
   "language_group": "synapse_pyspark",
   "ms_spell_check": {
    "ms_spell_check_language": "en"
   }
  },
  "nteract": {
   "version": "nteract-front-end@1.0.0"
  },
  "sessionKeepAliveTimeout": 0,
  "spark_compute": {
   "compute_id": "/trident/default",
   "session_options": {
    "conf": {
     "spark.synapse.nbs.session.timeout": "1200000"
    }
   }
  }
 },
 "nbformat": 4,
 "nbformat_minor": 5
}
